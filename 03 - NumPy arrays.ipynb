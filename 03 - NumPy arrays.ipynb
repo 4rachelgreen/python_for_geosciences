{
 "metadata": {
  "name": ""
 },
 "nbformat": 3,
 "nbformat_minor": 0,
 "worksheets": [
  {
   "cells": [
    {
     "cell_type": "code",
     "collapsed": false,
     "input": [
      "set_printoptions(precision=3 , suppress= True) # this is just to make the output look better"
     ],
     "language": "python",
     "metadata": {},
     "outputs": [],
     "prompt_number": 1
    },
    {
     "cell_type": "heading",
     "level": 1,
     "metadata": {},
     "source": [
      "NumPy arrays"
     ]
    },
    {
     "cell_type": "markdown",
     "metadata": {},
     "source": [
      "<img  height=\"100\" src=\"files/numpy.png\" >"
     ]
    },
    {
     "cell_type": "markdown",
     "metadata": {},
     "source": [
      "-    a powerful N-dimensional array object\n",
      "-    sophisticated (broadcasting) functions\n",
      "-    tools for integrating C/C++ and Fortran code\n",
      "-    useful linear algebra, Fourier transform, and random number capabilities\n"
     ]
    },
    {
     "cell_type": "heading",
     "level": 2,
     "metadata": {},
     "source": [
      "Load data"
     ]
    },
    {
     "cell_type": "markdown",
     "metadata": {},
     "source": [
      "First let's get some data. This will be AO index downloaded by wget (through a system call):"
     ]
    },
    {
     "cell_type": "code",
     "collapsed": false,
     "input": [
      "!wget www.cpc.ncep.noaa.gov/products/precip/CWlink/daily_ao_index/monthly.ao.index.b50.current.ascii"
     ],
     "language": "python",
     "metadata": {},
     "outputs": []
    },
    {
     "cell_type": "markdown",
     "metadata": {},
     "source": [
      "This is how data in the file looks like:"
     ]
    },
    {
     "cell_type": "code",
     "collapsed": false,
     "input": [
      "!head monthly.ao.index.b50.current.ascii"
     ],
     "language": "python",
     "metadata": {},
     "outputs": [
      {
       "output_type": "stream",
       "stream": "stdout",
       "text": [
        " 1950    1  -0.60310E-01\r\n",
        " 1950    2   0.62681E+00\r\n",
        " 1950    3  -0.81275E-02\r\n",
        " 1950    4   0.55510E+00\r\n",
        " 1950    5   0.71577E-01\r\n",
        " 1950    6   0.53857E+00\r\n",
        " 1950    7  -0.80248E+00\r\n",
        " 1950    8  -0.85101E+00\r\n",
        " 1950    9   0.35797E+00\r\n",
        " 1950   10  -0.37890E+00\r\n"
       ]
      }
     ],
     "prompt_number": 1
    },
    {
     "cell_type": "markdown",
     "metadata": {},
     "source": [
      "Load data in to a variable:"
     ]
    },
    {
     "cell_type": "code",
     "collapsed": false,
     "input": [
      "ao = loadtxt('monthly.ao.index.b50.current.ascii')"
     ],
     "language": "python",
     "metadata": {},
     "outputs": [],
     "prompt_number": 2
    },
    {
     "cell_type": "code",
     "collapsed": false,
     "input": [
      "ao"
     ],
     "language": "python",
     "metadata": {},
     "outputs": [
      {
       "metadata": {},
       "output_type": "pyout",
       "prompt_number": 3,
       "text": [
        "array([[  1.95000000e+03,   1.00000000e+00,  -6.03100000e-02],\n",
        "       [  1.95000000e+03,   2.00000000e+00,   6.26810000e-01],\n",
        "       [  1.95000000e+03,   3.00000000e+00,  -8.12750000e-03],\n",
        "       ..., \n",
        "       [  2.01300000e+03,   7.00000000e+00,  -1.11120000e-02],\n",
        "       [  2.01300000e+03,   8.00000000e+00,   1.54250000e-01],\n",
        "       [  2.01300000e+03,   9.00000000e+00,  -4.60880000e-01]])"
       ]
      }
     ],
     "prompt_number": 3
    },
    {
     "cell_type": "code",
     "collapsed": false,
     "input": [
      "ao.shape"
     ],
     "language": "python",
     "metadata": {},
     "outputs": [
      {
       "metadata": {},
       "output_type": "pyout",
       "prompt_number": 4,
       "text": [
        "(765, 3)"
       ]
      }
     ],
     "prompt_number": 4
    },
    {
     "cell_type": "markdown",
     "metadata": {},
     "source": [
      "So it's a \"Row first\" notation."
     ]
    },
    {
     "cell_type": "code",
     "collapsed": false,
     "input": [
      "type(ao)"
     ],
     "language": "python",
     "metadata": {},
     "outputs": [
      {
       "metadata": {},
       "output_type": "pyout",
       "prompt_number": 5,
       "text": [
        "numpy.ndarray"
       ]
      }
     ],
     "prompt_number": 5
    },
    {
     "cell_type": "markdown",
     "metadata": {},
     "source": [
      "Numpy arrays are statically typed, which allow faster operations"
     ]
    },
    {
     "cell_type": "code",
     "collapsed": false,
     "input": [
      "ao.dtype"
     ],
     "language": "python",
     "metadata": {},
     "outputs": [
      {
       "metadata": {},
       "output_type": "pyout",
       "prompt_number": 6,
       "text": [
        "dtype('float64')"
       ]
      }
     ],
     "prompt_number": 6
    },
    {
     "cell_type": "code",
     "collapsed": false,
     "input": [
      "ao[0,0] = 'Year'"
     ],
     "language": "python",
     "metadata": {},
     "outputs": [
      {
       "ename": "ValueError",
       "evalue": "could not convert string to float: Year",
       "output_type": "pyerr",
       "traceback": [
        "\u001b[1;31m---------------------------------------------------------------------------\u001b[0m\n\u001b[1;31mValueError\u001b[0m                                Traceback (most recent call last)",
        "\u001b[1;32m<ipython-input-7-5a47ddfa9232>\u001b[0m in \u001b[0;36m<module>\u001b[1;34m()\u001b[0m\n\u001b[1;32m----> 1\u001b[1;33m \u001b[0mao\u001b[0m\u001b[1;33m[\u001b[0m\u001b[1;36m0\u001b[0m\u001b[1;33m,\u001b[0m\u001b[1;36m0\u001b[0m\u001b[1;33m]\u001b[0m \u001b[1;33m=\u001b[0m \u001b[1;34m'Year'\u001b[0m\u001b[1;33m\u001b[0m\u001b[0m\n\u001b[0m",
        "\u001b[1;31mValueError\u001b[0m: could not convert string to float: Year"
       ]
      }
     ],
     "prompt_number": 7
    },
    {
     "cell_type": "code",
     "collapsed": false,
     "input": [
      "ao[0:5,:]"
     ],
     "language": "python",
     "metadata": {},
     "outputs": [
      {
       "metadata": {},
       "output_type": "pyout",
       "prompt_number": 8,
       "text": [
        "array([[  1.95000000e+03,   1.00000000e+00,  -6.03100000e-02],\n",
        "       [  1.95000000e+03,   2.00000000e+00,   6.26810000e-01],\n",
        "       [  1.95000000e+03,   3.00000000e+00,  -8.12750000e-03],\n",
        "       [  1.95000000e+03,   4.00000000e+00,   5.55100000e-01],\n",
        "       [  1.95000000e+03,   5.00000000e+00,   7.15770000e-02]])"
       ]
      }
     ],
     "prompt_number": 8
    },
    {
     "cell_type": "markdown",
     "metadata": {},
     "source": [
      "One can look at the data (this is done by matplotlib module):"
     ]
    },
    {
     "cell_type": "code",
     "collapsed": false,
     "input": [
      "plot(ao[:,2])"
     ],
     "language": "python",
     "metadata": {},
     "outputs": [
      {
       "metadata": {},
       "output_type": "pyout",
       "prompt_number": 9,
       "text": [
        "[<matplotlib.lines.Line2D at 0x2cba750>]"
       ]
      },
      {
       "metadata": {},
       "output_type": "display_data",
       "png": "[encoded data removed]",
       "text": [
        "<matplotlib.figure.Figure at 0x2c96510>"
       ]
      }
     ],
     "prompt_number": 9
    },
    {
     "cell_type": "heading",
     "level": 2,
     "metadata": {},
     "source": [
      "Index slicing"
     ]
    },
    {
     "cell_type": "markdown",
     "metadata": {},
     "source": [
      "In general it is similar to Matlab"
     ]
    },
    {
     "cell_type": "code",
     "collapsed": false,
     "input": [
      "ao[0:12,1]"
     ],
     "language": "python",
     "metadata": {},
     "outputs": [
      {
       "metadata": {},
       "output_type": "pyout",
       "prompt_number": 11,
       "text": [
        "array([  1.,   2.,   3.,   4.,   5.,   6.,   7.,   8.,   9.,  10.,  11.,\n",
        "        12.])"
       ]
      }
     ],
     "prompt_number": 11
    },
    {
     "cell_type": "code",
     "collapsed": false,
     "input": [
      "ao[0,:]"
     ],
     "language": "python",
     "metadata": {},
     "outputs": [
      {
       "metadata": {},
       "output_type": "pyout",
       "prompt_number": 12,
       "text": [
        "array([ 1950.  ,     1.  ,    -0.06])"
       ]
      }
     ],
     "prompt_number": 12
    },
    {
     "cell_type": "code",
     "collapsed": false,
     "input": [
      "mask = (ao[:,1]==10)"
     ],
     "language": "python",
     "metadata": {},
     "outputs": [],
     "prompt_number": 13
    },
    {
     "cell_type": "code",
     "collapsed": false,
     "input": [
      "ao[mask][:5,:]"
     ],
     "language": "python",
     "metadata": {},
     "outputs": [
      {
       "metadata": {},
       "output_type": "pyout",
       "prompt_number": 15,
       "text": [
        "array([[ 1950.   ,    10.   ,    -0.379],\n",
        "       [ 1951.   ,    10.   ,    -0.213],\n",
        "       [ 1952.   ,    10.   ,    -0.437],\n",
        "       [ 1953.   ,    10.   ,    -0.194],\n",
        "       [ 1954.   ,    10.   ,     0.513]])"
       ]
      }
     ],
     "prompt_number": 15
    },
    {
     "cell_type": "code",
     "collapsed": false,
     "input": [
      "ao[ao[:,1]==10][-5:,:]"
     ],
     "language": "python",
     "metadata": {},
     "outputs": [
      {
       "metadata": {},
       "output_type": "pyout",
       "prompt_number": 16,
       "text": [
        "array([[ 2008.   ,    10.   ,     1.676],\n",
        "       [ 2009.   ,    10.   ,    -1.54 ],\n",
        "       [ 2010.   ,    10.   ,    -0.467],\n",
        "       [ 2011.   ,    10.   ,     0.8  ],\n",
        "       [ 2012.   ,    10.   ,    -1.514]])"
       ]
      }
     ],
     "prompt_number": 16
    },
    {
     "cell_type": "code",
     "collapsed": false,
     "input": [
      "ao[(ao[:,1]>=10)&(ao[:,1]<=12)][0:10,:]"
     ],
     "language": "python",
     "metadata": {},
     "outputs": [
      {
       "metadata": {},
       "output_type": "pyout",
       "prompt_number": 17,
       "text": [
        "array([[ 1950.   ,    10.   ,    -0.379],\n",
        "       [ 1950.   ,    11.   ,    -0.515],\n",
        "       [ 1950.   ,    12.   ,    -1.928],\n",
        "       [ 1951.   ,    10.   ,    -0.213],\n",
        "       [ 1951.   ,    11.   ,    -0.069],\n",
        "       [ 1951.   ,    12.   ,     1.987],\n",
        "       [ 1952.   ,    10.   ,    -0.437],\n",
        "       [ 1952.   ,    11.   ,    -1.891],\n",
        "       [ 1952.   ,    12.   ,    -1.827],\n",
        "       [ 1953.   ,    10.   ,    -0.194]])"
       ]
      }
     ],
     "prompt_number": 17
    },
    {
     "cell_type": "heading",
     "level": 2,
     "metadata": {},
     "source": [
      "Basic operations"
     ]
    },
    {
     "cell_type": "code",
     "collapsed": false,
     "input": [
      "months = ao[0:12,1]\n",
      "months"
     ],
     "language": "python",
     "metadata": {},
     "outputs": [
      {
       "metadata": {},
       "output_type": "pyout",
       "prompt_number": 18,
       "text": [
        "array([  1.,   2.,   3.,   4.,   5.,   6.,   7.,   8.,   9.,  10.,  11.,\n",
        "        12.])"
       ]
      }
     ],
     "prompt_number": 18
    },
    {
     "cell_type": "code",
     "collapsed": false,
     "input": [
      "months+10"
     ],
     "language": "python",
     "metadata": {},
     "outputs": [
      {
       "metadata": {},
       "output_type": "pyout",
       "prompt_number": 19,
       "text": [
        "array([ 11.,  12.,  13.,  14.,  15.,  16.,  17.,  18.,  19.,  20.,  21.,\n",
        "        22.])"
       ]
      }
     ],
     "prompt_number": 19
    },
    {
     "cell_type": "code",
     "collapsed": false,
     "input": [
      "months*20"
     ],
     "language": "python",
     "metadata": {},
     "outputs": [
      {
       "metadata": {},
       "output_type": "pyout",
       "prompt_number": 20,
       "text": [
        "array([  20.,   40.,   60.,   80.,  100.,  120.,  140.,  160.,  180.,\n",
        "        200.,  220.,  240.])"
       ]
      }
     ],
     "prompt_number": 20
    },
    {
     "cell_type": "code",
     "collapsed": false,
     "input": [
      "months*months"
     ],
     "language": "python",
     "metadata": {},
     "outputs": [
      {
       "metadata": {},
       "output_type": "pyout",
       "prompt_number": 21,
       "text": [
        "array([   1.,    4.,    9.,   16.,   25.,   36.,   49.,   64.,   81.,\n",
        "        100.,  121.,  144.])"
       ]
      }
     ],
     "prompt_number": 21
    },
    {
     "cell_type": "heading",
     "level": 2,
     "metadata": {},
     "source": [
      "Basic statistics"
     ]
    },
    {
     "cell_type": "code",
     "collapsed": false,
     "input": [
      "ao_values = ao[:,2]"
     ],
     "language": "python",
     "metadata": {},
     "outputs": [],
     "prompt_number": 22
    },
    {
     "cell_type": "code",
     "collapsed": false,
     "input": [
      "ao_values.min()"
     ],
     "language": "python",
     "metadata": {},
     "outputs": [
      {
       "metadata": {},
       "output_type": "pyout",
       "prompt_number": 23,
       "text": [
        "-4.2656999999999998"
       ]
      }
     ],
     "prompt_number": 23
    },
    {
     "cell_type": "code",
     "collapsed": false,
     "input": [
      "ao_values.max()"
     ],
     "language": "python",
     "metadata": {},
     "outputs": [
      {
       "metadata": {},
       "output_type": "pyout",
       "prompt_number": 24,
       "text": [
        "3.4952999999999999"
       ]
      }
     ],
     "prompt_number": 24
    },
    {
     "cell_type": "code",
     "collapsed": false,
     "input": [
      "ao_values.mean()"
     ],
     "language": "python",
     "metadata": {},
     "outputs": [
      {
       "metadata": {},
       "output_type": "pyout",
       "prompt_number": 25,
       "text": [
        "-0.13462109949019596"
       ]
      }
     ],
     "prompt_number": 25
    },
    {
     "cell_type": "code",
     "collapsed": false,
     "input": [
      "ao_values.std()"
     ],
     "language": "python",
     "metadata": {},
     "outputs": [
      {
       "metadata": {},
       "output_type": "pyout",
       "prompt_number": 26,
       "text": [
        "1.0054168027600723"
       ]
      }
     ],
     "prompt_number": 26
    },
    {
     "cell_type": "code",
     "collapsed": false,
     "input": [
      "ao_values.sum()"
     ],
     "language": "python",
     "metadata": {},
     "outputs": [
      {
       "output_type": "stream",
       "stream": "stdout",
       "text": [
        "100000 loops, best of 3: 20.2 \u00b5s per loop\n"
       ]
      }
     ],
     "prompt_number": 29
    },
    {
     "cell_type": "code",
     "collapsed": false,
     "input": [
      "sum(ao_values)"
     ],
     "language": "python",
     "metadata": {},
     "outputs": [
      {
       "output_type": "stream",
       "stream": "stdout",
       "text": [
        "10000 loops, best of 3: 24.1 \u00b5s per loop\n"
       ]
      }
     ],
     "prompt_number": 30
    },
    {
     "cell_type": "markdown",
     "metadata": {},
     "source": [
      "One can make operations on the subsets:"
     ]
    },
    {
     "cell_type": "code",
     "collapsed": false,
     "input": [
      "mean(ao[ao[:,1]==1,2]) # January monthly mean"
     ],
     "language": "python",
     "metadata": {},
     "outputs": [
      {
       "metadata": {},
       "output_type": "pyout",
       "prompt_number": 31,
       "text": [
        "-0.40406150000000002"
       ]
      }
     ],
     "prompt_number": 31
    },
    {
     "cell_type": "code",
     "collapsed": false,
     "input": [
      "ao[ao[:,1]==1,2].mean()"
     ],
     "language": "python",
     "metadata": {},
     "outputs": [
      {
       "metadata": {},
       "output_type": "pyout",
       "prompt_number": 32,
       "text": [
        "-0.40406150000000002"
       ]
      }
     ],
     "prompt_number": 32
    },
    {
     "cell_type": "heading",
     "level": 2,
     "metadata": {},
     "source": [
      "Saving data"
     ]
    },
    {
     "cell_type": "markdown",
     "metadata": {},
     "source": [
      "You can save your data as a text file"
     ]
    },
    {
     "cell_type": "code",
     "collapsed": false,
     "input": [
      "savetxt('ao_only_values.csv',ao[:, 2], fmt='%.4f')"
     ],
     "language": "python",
     "metadata": {},
     "outputs": [],
     "prompt_number": 33
    },
    {
     "cell_type": "code",
     "collapsed": false,
     "input": [
      "!head ao_only_values.csv"
     ],
     "language": "python",
     "metadata": {},
     "outputs": [
      {
       "output_type": "stream",
       "stream": "stdout",
       "text": [
        "-0.0603\r\n",
        "0.6268\r\n",
        "-0.0081\r\n",
        "0.5551\r\n",
        "0.0716\r\n",
        "0.5386\r\n",
        "-0.8025\r\n",
        "-0.8510\r\n",
        "0.3580\r\n",
        "-0.3789\r\n"
       ]
      }
     ],
     "prompt_number": 34
    },
    {
     "cell_type": "markdown",
     "metadata": {},
     "source": [
      "or as binary"
     ]
    },
    {
     "cell_type": "code",
     "collapsed": false,
     "input": [
      "f=open('ao_only_values.bin', 'w')\n",
      "ao[:,2].tofile(f)\n",
      "f.close()"
     ],
     "language": "python",
     "metadata": {},
     "outputs": [],
     "prompt_number": 35
    }
   ],
   "metadata": {}
  }
 ]
}