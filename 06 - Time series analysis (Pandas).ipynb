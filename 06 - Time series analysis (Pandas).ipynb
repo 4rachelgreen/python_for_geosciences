{
 "metadata": {
  "Author": "Nikolay Koldunov",
  "Category": "Data processing",
  "Date": "2013-3-30",
  "Tags": "pandas, data analysis, visualization",
  "Title": "Time series analysis with pandas",
  "name": "",
  "slug": "pandas-basics"
 },
 "nbformat": 3,
 "nbformat_minor": 0,
 "worksheets": [
  {
   "cells": [
    {
     "cell_type": "heading",
     "level": 1,
     "metadata": {},
     "source": [
      "Time series analysis (Pandas)"
     ]
    },
    {
     "cell_type": "markdown",
     "metadata": {},
     "source": [
      "Nikolay Koldunov\n",
      "\n",
      "koldunovn@gmail.com"
     ]
    },
    {
     "cell_type": "markdown",
     "metadata": {},
     "source": [
      "This is part of [**Python for Geosciences**](https://github.com/koldunovn/python_for_geosciences) notes."
     ]
    },
    {
     "cell_type": "markdown",
     "metadata": {},
     "source": [
      "================"
     ]
    },
    {
     "cell_type": "markdown",
     "metadata": {},
     "source": [
      "Here I am going to show just some basic [pandas](http://pandas.pydata.org/) stuff for time series analysis, as I think for the Earth Scientists it's the most interesting topic. If you find this small tutorial useful, I encourage you to watch [this video](http://pyvideo.org/video/1198/time-series-data-analysis-with-pandas), where Wes McKinney give extensive introduction to the time series data analysis with pandas.\n",
      "\n",
      "On the official website you can find explanation of what problems pandas solve in general, but I can tell you what problem pandas solve for me. It makes analysis and visualisation of 1D data, especially time series, MUCH faster. Before pandas working with time series in python was a pain for me, now it's fun. Ease of use stimulate in-depth exploration of the data: why wouldn't you make some additional analysis if it's just one line of code? Hope you will also find this great tool helpful and useful. So, let's begin."
     ]
    },
    {
     "cell_type": "markdown",
     "metadata": {},
     "source": [
      "As an example we are going to use time series of [Arctic Oscillation (AO)](http://en.wikipedia.org/wiki/Arctic_oscillation) and [North Atlantic Oscillation (NAO)](http://en.wikipedia.org/wiki/North_Atlantic_oscillation) data sets."
     ]
    },
    {
     "cell_type": "heading",
     "level": 2,
     "metadata": {},
     "source": [
      "Module import"
     ]
    },
    {
     "cell_type": "markdown",
     "metadata": {},
     "source": [
      "First we have to import necessary modules:"
     ]
    },
    {
     "cell_type": "code",
     "collapsed": false,
     "input": [
      "import pandas as pd\n",
      "import numpy as np\n",
      "pd.set_option('max_rows',15) # this limit maximum numbers of rows"
     ],
     "language": "python",
     "metadata": {},
     "outputs": [],
     "prompt_number": 2
    },
    {
     "cell_type": "markdown",
     "metadata": {},
     "source": [
      "And \"switch on\" inline graphic for the notebook:"
     ]
    },
    {
     "cell_type": "code",
     "collapsed": false,
     "input": [
      "%pylab inline"
     ],
     "language": "python",
     "metadata": {},
     "outputs": [
      {
       "output_type": "stream",
       "stream": "stdout",
       "text": [
        "Populating the interactive namespace from numpy and matplotlib\n"
       ]
      }
     ],
     "prompt_number": 3
    },
    {
     "cell_type": "markdown",
     "metadata": {},
     "source": [
      "Pandas developing very fast, and while we are going to use only basic functionality, some details may still change in the newer versions."
     ]
    },
    {
     "cell_type": "code",
     "collapsed": false,
     "input": [
      "pd.__version__"
     ],
     "language": "python",
     "metadata": {},
     "outputs": [
      {
       "metadata": {},
       "output_type": "pyout",
       "prompt_number": 4,
       "text": [
        "'0.12.0'"
       ]
      }
     ],
     "prompt_number": 4
    },
    {
     "cell_type": "heading",
     "level": 2,
     "metadata": {},
     "source": [
      "Loading data"
     ]
    },
    {
     "cell_type": "markdown",
     "metadata": {},
     "source": [
      "Now, when we are done with preparations, let's get some data. If you work on Windows download monthly AO data [from here](http://www.cpc.ncep.noaa.gov/products/precip/CWlink/daily_ao_index/monthly.ao.index.b50.current.ascii). If you on *nix machine, you can do it directly from ipython notebook using system call to wget command:"
     ]
    },
    {
     "cell_type": "code",
     "collapsed": false,
     "input": [
      "!wget http://www.cpc.ncep.noaa.gov/products/precip/CWlink/daily_ao_index/monthly.ao.index.b50.current.ascii"
     ],
     "language": "python",
     "metadata": {},
     "outputs": []
    },
    {
     "cell_type": "markdown",
     "metadata": {},
     "source": [
      "Pandas has very good IO capabilities, but we not going to use them in this tutorial in order to keep things simple. For now we open the file simply with numpy loadtxt:"
     ]
    },
    {
     "cell_type": "code",
     "collapsed": false,
     "input": [
      "ao = np.loadtxt('monthly.ao.index.b50.current.ascii')"
     ],
     "language": "python",
     "metadata": {},
     "outputs": [],
     "prompt_number": 5
    },
    {
     "cell_type": "markdown",
     "metadata": {},
     "source": [
      "Every line in the file consist of three elements: year, month, value:"
     ]
    },
    {
     "cell_type": "code",
     "collapsed": false,
     "input": [
      "ao[0:2]"
     ],
     "language": "python",
     "metadata": {},
     "outputs": [
      {
       "metadata": {},
       "output_type": "pyout",
       "prompt_number": 6,
       "text": [
        "array([[  1.95000000e+03,   1.00000000e+00,  -6.03100000e-02],\n",
        "       [  1.95000000e+03,   2.00000000e+00,   6.26810000e-01]])"
       ]
      }
     ],
     "prompt_number": 6
    },
    {
     "cell_type": "markdown",
     "metadata": {},
     "source": [
      "And here is the shape of our array (note that shape of the file might differ in your case, since data updated monthly):"
     ]
    },
    {
     "cell_type": "code",
     "collapsed": false,
     "input": [
      "ao.shape"
     ],
     "language": "python",
     "metadata": {},
     "outputs": [
      {
       "metadata": {},
       "output_type": "pyout",
       "prompt_number": 7,
       "text": [
        "(765, 3)"
       ]
      }
     ],
     "prompt_number": 7
    },
    {
     "cell_type": "heading",
     "level": 2,
     "metadata": {},
     "source": [
      "Time Series"
     ]
    },
    {
     "cell_type": "markdown",
     "metadata": {},
     "source": [
      "We would like to convert this data in to time series, that can be manipulated naturally and easily. First step, that we have to do is to create the range of dates for our time series. From the file it is clear, that record starts at January 1950 and ends at September 2013 (at the time I am writing this, of course). **You have to adjust the last date according to values in your file!** Frequency of the data is one month (freq='M'). "
     ]
    },
    {
     "cell_type": "code",
     "collapsed": false,
     "input": [
      "dates = pd.date_range('1950-01', '2013-10', freq='M')"
     ],
     "language": "python",
     "metadata": {},
     "outputs": [],
     "prompt_number": 10
    },
    {
     "cell_type": "markdown",
     "metadata": {},
     "source": [
      "As you see syntax is quite simple, and this is one of the reasons why I love Pandas so much :) Another thing to mention, is that we put October 2003 instead of September because the interval is open on the right side. You can check if the range of dates is properly generated:"
     ]
    },
    {
     "cell_type": "code",
     "collapsed": false,
     "input": [
      "dates"
     ],
     "language": "python",
     "metadata": {},
     "outputs": [
      {
       "metadata": {},
       "output_type": "pyout",
       "prompt_number": 11,
       "text": [
        "<class 'pandas.tseries.index.DatetimeIndex'>\n",
        "[1950-01-31 00:00:00, ..., 2013-09-30 00:00:00]\n",
        "Length: 765, Freq: M, Timezone: None"
       ]
      }
     ],
     "prompt_number": 11
    },
    {
     "cell_type": "code",
     "collapsed": false,
     "input": [
      "dates.shape"
     ],
     "language": "python",
     "metadata": {},
     "outputs": [
      {
       "metadata": {},
       "output_type": "pyout",
       "prompt_number": 12,
       "text": [
        "(765,)"
       ]
      }
     ],
     "prompt_number": 12
    },
    {
     "cell_type": "markdown",
     "metadata": {},
     "source": [
      "Now we are ready to create our first time series. Dates from the *dates* variable will be our index, and AO values will be our, hm... values:"
     ]
    },
    {
     "cell_type": "code",
     "collapsed": false,
     "input": [
      "AO = pd.Series(ao[:,2], index=dates)"
     ],
     "language": "python",
     "metadata": {},
     "outputs": [],
     "prompt_number": 13
    },
    {
     "cell_type": "code",
     "collapsed": false,
     "input": [
      "AO"
     ],
     "language": "python",
     "metadata": {},
     "outputs": [
      {
       "metadata": {},
       "output_type": "pyout",
       "prompt_number": 14,
       "text": [
        "1950-01-31   -0.060310\n",
        "1950-02-28    0.626810\n",
        "1950-03-31   -0.008127\n",
        "1950-04-30    0.555100\n",
        "1950-05-31    0.071577\n",
        "...\n",
        "2013-04-30    0.322210\n",
        "2013-05-31    0.494010\n",
        "2013-06-30    0.548650\n",
        "2013-07-31   -0.011112\n",
        "2013-08-31    0.154250\n",
        "2013-09-30   -0.460880\n",
        "Freq: M, Length: 765, dtype: float64"
       ]
      }
     ],
     "prompt_number": 14
    },
    {
     "cell_type": "markdown",
     "metadata": {},
     "source": [
      "Now we can plot complete time series:"
     ]
    },
    {
     "cell_type": "code",
     "collapsed": false,
     "input": [
      "AO.plot()"
     ],
     "language": "python",
     "metadata": {},
     "outputs": [
      {
       "metadata": {},
       "output_type": "pyout",
       "prompt_number": 15,
       "text": [
        "<matplotlib.axes.AxesSubplot at 0xb28a62c>"
       ]
      },
      {
       "metadata": {},
       "output_type": "display_data",
       "png": "[encoded data removed]",
       "text": [
        "<matplotlib.figure.Figure at 0xb28a3ac>"
       ]
      }
     ],
     "prompt_number": 15
    },
    {
     "cell_type": "markdown",
     "metadata": {},
     "source": [
      "or its part:"
     ]
    },
    {
     "cell_type": "code",
     "collapsed": false,
     "input": [
      "AO['1980':'1990'].plot()"
     ],
     "language": "python",
     "metadata": {},
     "outputs": [
      {
       "metadata": {},
       "output_type": "pyout",
       "prompt_number": 16,
       "text": [
        "<matplotlib.axes.AxesSubplot at 0xb26c40c>"
       ]
      },
      {
       "metadata": {},
       "output_type": "display_data",
       "png": "[encoded data removed]",
       "text": [
        "<matplotlib.figure.Figure at 0xb26c76c>"
       ]
      }
     ],
     "prompt_number": 16
    },
    {
     "cell_type": "markdown",
     "metadata": {},
     "source": [
      "or even smaller part:"
     ]
    },
    {
     "cell_type": "code",
     "collapsed": false,
     "input": [
      "AO['1980-05':'1981-03'].plot()"
     ],
     "language": "python",
     "metadata": {},
     "outputs": [
      {
       "metadata": {},
       "output_type": "pyout",
       "prompt_number": 17,
       "text": [
        "<matplotlib.axes.AxesSubplot at 0xb6ea8cc>"
       ]
      },
      {
       "metadata": {},
       "output_type": "display_data",
       "png": "[encoded data removed]",
       "text": [
        "<matplotlib.figure.Figure at 0xb2753cc>"
       ]
      }
     ],
     "prompt_number": 17
    },
    {
     "cell_type": "markdown",
     "metadata": {},
     "source": [
      "Reference to the time periods is done in a very natural way. You, of course, can also get individual values. By number: "
     ]
    },
    {
     "cell_type": "code",
     "collapsed": false,
     "input": [
      "AO[120]"
     ],
     "language": "python",
     "metadata": {},
     "outputs": [
      {
       "metadata": {},
       "output_type": "pyout",
       "prompt_number": 18,
       "text": [
        "-2.4842"
       ]
      }
     ],
     "prompt_number": 18
    },
    {
     "cell_type": "markdown",
     "metadata": {},
     "source": [
      "or by index (date in our case):"
     ]
    },
    {
     "cell_type": "code",
     "collapsed": false,
     "input": [
      "AO['1960-01']"
     ],
     "language": "python",
     "metadata": {},
     "outputs": [
      {
       "metadata": {},
       "output_type": "pyout",
       "prompt_number": 19,
       "text": [
        "1960-01-31   -2.4842\n",
        "Freq: M, dtype: float64"
       ]
      }
     ],
     "prompt_number": 19
    },
    {
     "cell_type": "markdown",
     "metadata": {},
     "source": [
      "And what if we choose only one year?"
     ]
    },
    {
     "cell_type": "code",
     "collapsed": false,
     "input": [
      "AO['1960']"
     ],
     "language": "python",
     "metadata": {},
     "outputs": [
      {
       "metadata": {},
       "output_type": "pyout",
       "prompt_number": 20,
       "text": [
        "1960-01-31   -2.484200\n",
        "1960-02-29   -2.212400\n",
        "1960-03-31   -1.624600\n",
        "1960-04-30   -0.297310\n",
        "1960-05-31   -0.857430\n",
        "1960-06-30    0.054978\n",
        "1960-07-31   -0.619060\n",
        "1960-08-31   -1.007900\n",
        "1960-09-30   -0.381640\n",
        "1960-10-31   -1.187000\n",
        "1960-11-30   -0.553230\n",
        "1960-12-31   -0.342950\n",
        "Freq: M, dtype: float64"
       ]
      }
     ],
     "prompt_number": 20
    },
    {
     "cell_type": "markdown",
     "metadata": {},
     "source": [
      "Isn't that great? :)"
     ]
    },
    {
     "cell_type": "markdown",
     "metadata": {},
     "source": [
      "One bonus example :)"
     ]
    },
    {
     "cell_type": "code",
     "collapsed": false,
     "input": [
      "AO[AO > 0]"
     ],
     "language": "python",
     "metadata": {},
     "outputs": [
      {
       "metadata": {},
       "output_type": "pyout",
       "prompt_number": 21,
       "text": [
        "1950-02-28    0.626810\n",
        "1950-04-30    0.555100\n",
        "1950-05-31    0.071577\n",
        "1950-06-30    0.538570\n",
        "1950-09-30    0.357970\n",
        "...\n",
        "2012-08-31    0.013999\n",
        "2012-09-30    0.772250\n",
        "2013-04-30    0.322210\n",
        "2013-05-31    0.494010\n",
        "2013-06-30    0.548650\n",
        "2013-08-31    0.154250\n",
        "Length: 351, dtype: float64"
       ]
      }
     ],
     "prompt_number": 21
    },
    {
     "cell_type": "heading",
     "level": 2,
     "metadata": {},
     "source": [
      "Data Frame"
     ]
    },
    {
     "cell_type": "markdown",
     "metadata": {},
     "source": [
      "Now let's make live a bit more interesting and download more data. This will be NAO time series (Windowd users can get it [here](http://www.cpc.ncep.noaa.gov/products/precip/CWlink/pna/norm.nao.monthly.b5001.current.ascii))."
     ]
    },
    {
     "cell_type": "code",
     "collapsed": true,
     "input": [
      "!wget http://www.cpc.ncep.noaa.gov/products/precip/CWlink/pna/norm.nao.monthly.b5001.current.ascii"
     ],
     "language": "python",
     "metadata": {},
     "outputs": []
    },
    {
     "cell_type": "markdown",
     "metadata": {},
     "source": [
      "Create Series the same way as we did for AO:"
     ]
    },
    {
     "cell_type": "code",
     "collapsed": false,
     "input": [
      "nao = np.loadtxt('norm.nao.monthly.b5001.current.ascii')\n",
      "dates_nao = pd.date_range('1950-01', '2013-10', freq='M')\n",
      "NAO = pd.Series(nao[:,2], index=dates_nao)"
     ],
     "language": "python",
     "metadata": {},
     "outputs": [],
     "prompt_number": 22
    },
    {
     "cell_type": "markdown",
     "metadata": {},
     "source": [
      "Time period is the same:"
     ]
    },
    {
     "cell_type": "code",
     "collapsed": false,
     "input": [
      "NAO.index"
     ],
     "language": "python",
     "metadata": {},
     "outputs": [
      {
       "metadata": {},
       "output_type": "pyout",
       "prompt_number": 23,
       "text": [
        "<class 'pandas.tseries.index.DatetimeIndex'>\n",
        "[1950-01-31 00:00:00, ..., 2013-09-30 00:00:00]\n",
        "Length: 765, Freq: M, Timezone: None"
       ]
      }
     ],
     "prompt_number": 23
    },
    {
     "cell_type": "markdown",
     "metadata": {},
     "source": [
      "Now we create Data Frame, that will contain both AO and NAO data. It sort of an Excel table where the first row contain headers for the columns and firs column is an index:"
     ]
    },
    {
     "cell_type": "code",
     "collapsed": false,
     "input": [
      "aonao = pd.DataFrame({'AO' : AO, 'NAO' : NAO})"
     ],
     "language": "python",
     "metadata": {},
     "outputs": [],
     "prompt_number": 24
    },
    {
     "cell_type": "markdown",
     "metadata": {},
     "source": [
      "One can plot the data straight away:"
     ]
    },
    {
     "cell_type": "code",
     "collapsed": false,
     "input": [
      "aonao.plot()"
     ],
     "language": "python",
     "metadata": {},
     "outputs": [
      {
       "metadata": {},
       "output_type": "pyout",
       "prompt_number": 25,
       "text": [
        "<matplotlib.axes.AxesSubplot at 0xb7e19ec>"
       ]
      },
      {
       "metadata": {},
       "output_type": "display_data",
       "png": "[encoded data removed]",
       "text": [
        "<matplotlib.figure.Figure at 0xb7e1dcc>"
       ]
      }
     ],
     "prompt_number": 25
    },
    {
     "cell_type": "markdown",
     "metadata": {},
     "source": [
      "Or have a look at the first several rows:"
     ]
    },
    {
     "cell_type": "code",
     "collapsed": false,
     "input": [
      "aonao.head()"
     ],
     "language": "python",
     "metadata": {},
     "outputs": [
      {
       "html": [
        "<div style=\"max-height:1000px;max-width:1500px;overflow:auto;\">\n",
        "<table border=\"1\" class=\"dataframe\">\n",
        "  <thead>\n",
        "    <tr style=\"text-align: right;\">\n",
        "      <th></th>\n",
        "      <th>AO</th>\n",
        "      <th>NAO</th>\n",
        "    </tr>\n",
        "  </thead>\n",
        "  <tbody>\n",
        "    <tr>\n",
        "      <th>1950-01-31</th>\n",
        "      <td>-0.060310</td>\n",
        "      <td> 0.92</td>\n",
        "    </tr>\n",
        "    <tr>\n",
        "      <th>1950-02-28</th>\n",
        "      <td> 0.626810</td>\n",
        "      <td> 0.40</td>\n",
        "    </tr>\n",
        "    <tr>\n",
        "      <th>1950-03-31</th>\n",
        "      <td>-0.008127</td>\n",
        "      <td>-0.36</td>\n",
        "    </tr>\n",
        "    <tr>\n",
        "      <th>1950-04-30</th>\n",
        "      <td> 0.555100</td>\n",
        "      <td> 0.73</td>\n",
        "    </tr>\n",
        "    <tr>\n",
        "      <th>1950-05-31</th>\n",
        "      <td> 0.071577</td>\n",
        "      <td>-0.59</td>\n",
        "    </tr>\n",
        "  </tbody>\n",
        "</table>\n",
        "</div>"
       ],
       "metadata": {},
       "output_type": "pyout",
       "prompt_number": 26,
       "text": [
        "                  AO   NAO\n",
        "1950-01-31 -0.060310  0.92\n",
        "1950-02-28  0.626810  0.40\n",
        "1950-03-31 -0.008127 -0.36\n",
        "1950-04-30  0.555100  0.73\n",
        "1950-05-31  0.071577 -0.59"
       ]
      }
     ],
     "prompt_number": 26
    },
    {
     "cell_type": "markdown",
     "metadata": {},
     "source": [
      "We can reference each column by its name:"
     ]
    },
    {
     "cell_type": "code",
     "collapsed": false,
     "input": [
      "aonao['NAO']"
     ],
     "language": "python",
     "metadata": {},
     "outputs": [
      {
       "metadata": {},
       "output_type": "pyout",
       "prompt_number": 27,
       "text": [
        "1950-01-31    0.92\n",
        "1950-02-28    0.40\n",
        "1950-03-31   -0.36\n",
        "1950-04-30    0.73\n",
        "1950-05-31   -0.59\n",
        "...\n",
        "2013-04-30    0.68700\n",
        "2013-05-31    0.56906\n",
        "2013-06-30    0.52076\n",
        "2013-07-31    0.67216\n",
        "2013-08-31    0.97019\n",
        "2013-09-30    0.24060\n",
        "Freq: M, Name: NAO, Length: 765, dtype: float64"
       ]
      }
     ],
     "prompt_number": 27
    },
    {
     "cell_type": "markdown",
     "metadata": {},
     "source": [
      "or as method of the Data Frame variable (if name of the variable is a valid python name):"
     ]
    },
    {
     "cell_type": "code",
     "collapsed": false,
     "input": [
      "aonao.NAO"
     ],
     "language": "python",
     "metadata": {},
     "outputs": [
      {
       "metadata": {},
       "output_type": "pyout",
       "prompt_number": 28,
       "text": [
        "1950-01-31    0.92\n",
        "1950-02-28    0.40\n",
        "1950-03-31   -0.36\n",
        "1950-04-30    0.73\n",
        "1950-05-31   -0.59\n",
        "...\n",
        "2013-04-30    0.68700\n",
        "2013-05-31    0.56906\n",
        "2013-06-30    0.52076\n",
        "2013-07-31    0.67216\n",
        "2013-08-31    0.97019\n",
        "2013-09-30    0.24060\n",
        "Freq: M, Name: NAO, Length: 765, dtype: float64"
       ]
      }
     ],
     "prompt_number": 28
    },
    {
     "cell_type": "markdown",
     "metadata": {},
     "source": [
      "We can simply add column to the Data Frame:"
     ]
    },
    {
     "cell_type": "code",
     "collapsed": false,
     "input": [
      "aonao['Diff'] = aonao['AO'] - aonao['NAO']\n",
      "aonao.head()"
     ],
     "language": "python",
     "metadata": {},
     "outputs": [
      {
       "html": [
        "<div style=\"max-height:1000px;max-width:1500px;overflow:auto;\">\n",
        "<table border=\"1\" class=\"dataframe\">\n",
        "  <thead>\n",
        "    <tr style=\"text-align: right;\">\n",
        "      <th></th>\n",
        "      <th>AO</th>\n",
        "      <th>NAO</th>\n",
        "      <th>Diff</th>\n",
        "    </tr>\n",
        "  </thead>\n",
        "  <tbody>\n",
        "    <tr>\n",
        "      <th>1950-01-31</th>\n",
        "      <td>-0.060310</td>\n",
        "      <td> 0.92</td>\n",
        "      <td>-0.980310</td>\n",
        "    </tr>\n",
        "    <tr>\n",
        "      <th>1950-02-28</th>\n",
        "      <td> 0.626810</td>\n",
        "      <td> 0.40</td>\n",
        "      <td> 0.226810</td>\n",
        "    </tr>\n",
        "    <tr>\n",
        "      <th>1950-03-31</th>\n",
        "      <td>-0.008127</td>\n",
        "      <td>-0.36</td>\n",
        "      <td> 0.351872</td>\n",
        "    </tr>\n",
        "    <tr>\n",
        "      <th>1950-04-30</th>\n",
        "      <td> 0.555100</td>\n",
        "      <td> 0.73</td>\n",
        "      <td>-0.174900</td>\n",
        "    </tr>\n",
        "    <tr>\n",
        "      <th>1950-05-31</th>\n",
        "      <td> 0.071577</td>\n",
        "      <td>-0.59</td>\n",
        "      <td> 0.661577</td>\n",
        "    </tr>\n",
        "  </tbody>\n",
        "</table>\n",
        "</div>"
       ],
       "metadata": {},
       "output_type": "pyout",
       "prompt_number": 29,
       "text": [
        "                  AO   NAO      Diff\n",
        "1950-01-31 -0.060310  0.92 -0.980310\n",
        "1950-02-28  0.626810  0.40  0.226810\n",
        "1950-03-31 -0.008127 -0.36  0.351872\n",
        "1950-04-30  0.555100  0.73 -0.174900\n",
        "1950-05-31  0.071577 -0.59  0.661577"
       ]
      }
     ],
     "prompt_number": 29
    },
    {
     "cell_type": "markdown",
     "metadata": {},
     "source": [
      "And delete it:"
     ]
    },
    {
     "cell_type": "code",
     "collapsed": false,
     "input": [
      "del aonao['Diff']\n",
      "aonao.tail()"
     ],
     "language": "python",
     "metadata": {},
     "outputs": [
      {
       "html": [
        "<div style=\"max-height:1000px;max-width:1500px;overflow:auto;\">\n",
        "<table border=\"1\" class=\"dataframe\">\n",
        "  <thead>\n",
        "    <tr style=\"text-align: right;\">\n",
        "      <th></th>\n",
        "      <th>AO</th>\n",
        "      <th>NAO</th>\n",
        "    </tr>\n",
        "  </thead>\n",
        "  <tbody>\n",
        "    <tr>\n",
        "      <th>2013-05-31</th>\n",
        "      <td> 0.494010</td>\n",
        "      <td> 0.56906</td>\n",
        "    </tr>\n",
        "    <tr>\n",
        "      <th>2013-06-30</th>\n",
        "      <td> 0.548650</td>\n",
        "      <td> 0.52076</td>\n",
        "    </tr>\n",
        "    <tr>\n",
        "      <th>2013-07-31</th>\n",
        "      <td>-0.011112</td>\n",
        "      <td> 0.67216</td>\n",
        "    </tr>\n",
        "    <tr>\n",
        "      <th>2013-08-31</th>\n",
        "      <td> 0.154250</td>\n",
        "      <td> 0.97019</td>\n",
        "    </tr>\n",
        "    <tr>\n",
        "      <th>2013-09-30</th>\n",
        "      <td>-0.460880</td>\n",
        "      <td> 0.24060</td>\n",
        "    </tr>\n",
        "  </tbody>\n",
        "</table>\n",
        "</div>"
       ],
       "metadata": {},
       "output_type": "pyout",
       "prompt_number": 30,
       "text": [
        "                  AO      NAO\n",
        "2013-05-31  0.494010  0.56906\n",
        "2013-06-30  0.548650  0.52076\n",
        "2013-07-31 -0.011112  0.67216\n",
        "2013-08-31  0.154250  0.97019\n",
        "2013-09-30 -0.460880  0.24060"
       ]
      }
     ],
     "prompt_number": 30
    },
    {
     "cell_type": "markdown",
     "metadata": {},
     "source": [
      "Slicing will also work:"
     ]
    },
    {
     "cell_type": "code",
     "collapsed": false,
     "input": [
      "aonao['1981-01':'1981-03']"
     ],
     "language": "python",
     "metadata": {},
     "outputs": [
      {
       "html": [
        "<div style=\"max-height:1000px;max-width:1500px;overflow:auto;\">\n",
        "<table border=\"1\" class=\"dataframe\">\n",
        "  <thead>\n",
        "    <tr style=\"text-align: right;\">\n",
        "      <th></th>\n",
        "      <th>AO</th>\n",
        "      <th>NAO</th>\n",
        "    </tr>\n",
        "  </thead>\n",
        "  <tbody>\n",
        "    <tr>\n",
        "      <th>1981-01-31</th>\n",
        "      <td>-0.11634</td>\n",
        "      <td> 0.37</td>\n",
        "    </tr>\n",
        "    <tr>\n",
        "      <th>1981-02-28</th>\n",
        "      <td>-0.33158</td>\n",
        "      <td> 0.92</td>\n",
        "    </tr>\n",
        "    <tr>\n",
        "      <th>1981-03-31</th>\n",
        "      <td>-1.64470</td>\n",
        "      <td>-1.19</td>\n",
        "    </tr>\n",
        "  </tbody>\n",
        "</table>\n",
        "</div>"
       ],
       "metadata": {},
       "output_type": "pyout",
       "prompt_number": 31,
       "text": [
        "                 AO   NAO\n",
        "1981-01-31 -0.11634  0.37\n",
        "1981-02-28 -0.33158  0.92\n",
        "1981-03-31 -1.64470 -1.19"
       ]
      }
     ],
     "prompt_number": 31
    },
    {
     "cell_type": "markdown",
     "metadata": {},
     "source": [
      "even in some crazy combinations:"
     ]
    },
    {
     "cell_type": "code",
     "collapsed": false,
     "input": [
      "import datetime\n",
      "aonao.ix[(aonao.AO > 0) & (aonao.NAO < 0) \n",
      "        & (aonao.index > datetime.datetime(1980,1,1)) \n",
      "        & (aonao.index < datetime.datetime(1989,1,1)),\n",
      "        'NAO'].plot(kind='barh')"
     ],
     "language": "python",
     "metadata": {},
     "outputs": [
      {
       "metadata": {},
       "output_type": "pyout",
       "prompt_number": 32,
       "text": [
        "<matplotlib.axes.AxesSubplot at 0xb4acfec>"
       ]
      },
      {
       "metadata": {},
       "output_type": "display_data",
       "png": "[encoded data removed]",
       "text": [
        "<matplotlib.figure.Figure at 0xb3ab36c>"
       ]
      }
     ],
     "prompt_number": 32
    },
    {
     "cell_type": "markdown",
     "metadata": {},
     "source": [
      "Here we use special [advanced indexing attribute .ix](http://pandas.pydata.org/pandas-docs/stable/indexing.html#advanced-indexing-with-labels). We choose all NAO values in the 1980s for months where AO is positive and NAO is negative, and then plot them. Magic :)"
     ]
    },
    {
     "cell_type": "heading",
     "level": 2,
     "metadata": {},
     "source": [
      "Statistics"
     ]
    },
    {
     "cell_type": "markdown",
     "metadata": {},
     "source": [
      "Back to simple stuff. We can obtain statistical information over elements of the Data Frame. Default is column wise:"
     ]
    },
    {
     "cell_type": "code",
     "collapsed": false,
     "input": [
      "aonao.mean()"
     ],
     "language": "python",
     "metadata": {},
     "outputs": [
      {
       "metadata": {},
       "output_type": "pyout",
       "prompt_number": 33,
       "text": [
        "AO    -0.134621\n",
        "NAO   -0.029491\n",
        "dtype: float64"
       ]
      }
     ],
     "prompt_number": 33
    },
    {
     "cell_type": "code",
     "collapsed": false,
     "input": [
      "aonao.max()"
     ],
     "language": "python",
     "metadata": {},
     "outputs": [
      {
       "metadata": {},
       "output_type": "pyout",
       "prompt_number": 34,
       "text": [
        "AO     3.4953\n",
        "NAO    3.0400\n",
        "dtype: float64"
       ]
      }
     ],
     "prompt_number": 34
    },
    {
     "cell_type": "code",
     "collapsed": false,
     "input": [
      "aonao.min()"
     ],
     "language": "python",
     "metadata": {},
     "outputs": [
      {
       "metadata": {},
       "output_type": "pyout",
       "prompt_number": 35,
       "text": [
        "AO    -4.2657\n",
        "NAO   -3.1800\n",
        "dtype: float64"
       ]
      }
     ],
     "prompt_number": 35
    },
    {
     "cell_type": "markdown",
     "metadata": {},
     "source": [
      "You can also do it row-wise:"
     ]
    },
    {
     "cell_type": "code",
     "collapsed": false,
     "input": [
      "aonao.mean(1)"
     ],
     "language": "python",
     "metadata": {},
     "outputs": [
      {
       "metadata": {},
       "output_type": "pyout",
       "prompt_number": 36,
       "text": [
        "1950-01-31    0.429845\n",
        "1950-02-28    0.513405\n",
        "1950-03-31   -0.184064\n",
        "1950-04-30    0.642550\n",
        "1950-05-31   -0.259211\n",
        "...\n",
        "2013-04-30    0.504605\n",
        "2013-05-31    0.531535\n",
        "2013-06-30    0.534705\n",
        "2013-07-31    0.330524\n",
        "2013-08-31    0.562220\n",
        "2013-09-30   -0.110140\n",
        "Freq: M, Length: 765, dtype: float64"
       ]
      }
     ],
     "prompt_number": 36
    },
    {
     "cell_type": "markdown",
     "metadata": {},
     "source": [
      "Or get everything at once:"
     ]
    },
    {
     "cell_type": "code",
     "collapsed": false,
     "input": [
      "aonao.describe()"
     ],
     "language": "python",
     "metadata": {},
     "outputs": [
      {
       "html": [
        "<div style=\"max-height:1000px;max-width:1500px;overflow:auto;\">\n",
        "<table border=\"1\" class=\"dataframe\">\n",
        "  <thead>\n",
        "    <tr style=\"text-align: right;\">\n",
        "      <th></th>\n",
        "      <th>AO</th>\n",
        "      <th>NAO</th>\n",
        "    </tr>\n",
        "  </thead>\n",
        "  <tbody>\n",
        "    <tr>\n",
        "      <th>count</th>\n",
        "      <td> 765.000000</td>\n",
        "      <td> 765.000000</td>\n",
        "    </tr>\n",
        "    <tr>\n",
        "      <th>mean</th>\n",
        "      <td>  -0.134621</td>\n",
        "      <td>  -0.029491</td>\n",
        "    </tr>\n",
        "    <tr>\n",
        "      <th>std</th>\n",
        "      <td>   1.006075</td>\n",
        "      <td>   1.000726</td>\n",
        "    </tr>\n",
        "    <tr>\n",
        "      <th>min</th>\n",
        "      <td>  -4.265700</td>\n",
        "      <td>  -3.180000</td>\n",
        "    </tr>\n",
        "    <tr>\n",
        "      <th>25%</th>\n",
        "      <td>  -0.670630</td>\n",
        "      <td>  -0.760000</td>\n",
        "    </tr>\n",
        "    <tr>\n",
        "      <th>50%</th>\n",
        "      <td>  -0.055986</td>\n",
        "      <td>   0.000000</td>\n",
        "    </tr>\n",
        "    <tr>\n",
        "      <th>75%</th>\n",
        "      <td>   0.465690</td>\n",
        "      <td>   0.663810</td>\n",
        "    </tr>\n",
        "    <tr>\n",
        "      <th>max</th>\n",
        "      <td>   3.495300</td>\n",
        "      <td>   3.040000</td>\n",
        "    </tr>\n",
        "  </tbody>\n",
        "</table>\n",
        "</div>"
       ],
       "metadata": {},
       "output_type": "pyout",
       "prompt_number": 37,
       "text": [
        "               AO         NAO\n",
        "count  765.000000  765.000000\n",
        "mean    -0.134621   -0.029491\n",
        "std      1.006075    1.000726\n",
        "min     -4.265700   -3.180000\n",
        "25%     -0.670630   -0.760000\n",
        "50%     -0.055986    0.000000\n",
        "75%      0.465690    0.663810\n",
        "max      3.495300    3.040000"
       ]
      }
     ],
     "prompt_number": 37
    },
    {
     "cell_type": "markdown",
     "metadata": {},
     "source": [
      "By the way getting correlation coefficients for members of the Data Frame is as simple as:"
     ]
    },
    {
     "cell_type": "code",
     "collapsed": false,
     "input": [
      "aonao.corr()"
     ],
     "language": "python",
     "metadata": {},
     "outputs": [
      {
       "html": [
        "<div style=\"max-height:1000px;max-width:1500px;overflow:auto;\">\n",
        "<table border=\"1\" class=\"dataframe\">\n",
        "  <thead>\n",
        "    <tr style=\"text-align: right;\">\n",
        "      <th></th>\n",
        "      <th>AO</th>\n",
        "      <th>NAO</th>\n",
        "    </tr>\n",
        "  </thead>\n",
        "  <tbody>\n",
        "    <tr>\n",
        "      <th>AO</th>\n",
        "      <td> 1.000000</td>\n",
        "      <td> 0.612029</td>\n",
        "    </tr>\n",
        "    <tr>\n",
        "      <th>NAO</th>\n",
        "      <td> 0.612029</td>\n",
        "      <td> 1.000000</td>\n",
        "    </tr>\n",
        "  </tbody>\n",
        "</table>\n",
        "</div>"
       ],
       "metadata": {},
       "output_type": "pyout",
       "prompt_number": 38,
       "text": [
        "           AO       NAO\n",
        "AO   1.000000  0.612029\n",
        "NAO  0.612029  1.000000"
       ]
      }
     ],
     "prompt_number": 38
    },
    {
     "cell_type": "heading",
     "level": 2,
     "metadata": {},
     "source": [
      "Resampling"
     ]
    },
    {
     "cell_type": "markdown",
     "metadata": {},
     "source": [
      "Pandas provide easy way to resample data to different time frequency. Two main parameters for resampling is time period you resemple to and the method that you use. By default the method is mean. Following example calculates annual ('A') mean:"
     ]
    },
    {
     "cell_type": "code",
     "collapsed": false,
     "input": [
      "AO_mm = AO.resample(\"A\")\n",
      "AO_mm.plot()"
     ],
     "language": "python",
     "metadata": {},
     "outputs": [
      {
       "metadata": {},
       "output_type": "pyout",
       "prompt_number": 39,
       "text": [
        "<matplotlib.axes.AxesSubplot at 0xb3e0b4c>"
       ]
      },
      {
       "metadata": {},
       "output_type": "display_data",
       "png": "[encoded data removed]",
       "text": [
        "<matplotlib.figure.Figure at 0xb97ef8c>"
       ]
      }
     ],
     "prompt_number": 39
    },
    {
     "cell_type": "markdown",
     "metadata": {},
     "source": [
      "median:"
     ]
    },
    {
     "cell_type": "code",
     "collapsed": false,
     "input": [
      "AO_mm = AO.resample(\"A\", how='median')\n",
      "AO_mm.plot()"
     ],
     "language": "python",
     "metadata": {},
     "outputs": [
      {
       "metadata": {},
       "output_type": "pyout",
       "prompt_number": 40,
       "text": [
        "<matplotlib.axes.AxesSubplot at 0xbccd56c>"
       ]
      },
      {
       "metadata": {},
       "output_type": "display_data",
       "png": "[encoded data removed]",
       "text": [
        "<matplotlib.figure.Figure at 0xbcd848c>"
       ]
      }
     ],
     "prompt_number": 40
    },
    {
     "cell_type": "markdown",
     "metadata": {},
     "source": [
      "You can use your methods for resampling, for example np.max (in this case we change resampling frequency to 3 years):"
     ]
    },
    {
     "cell_type": "code",
     "collapsed": false,
     "input": [
      "AO_mm = AO.resample(\"3A\", how=np.max)\n",
      "AO_mm.plot()"
     ],
     "language": "python",
     "metadata": {},
     "outputs": [
      {
       "metadata": {},
       "output_type": "pyout",
       "prompt_number": 41,
       "text": [
        "<matplotlib.axes.AxesSubplot at 0xbd7d04c>"
       ]
      },
      {
       "metadata": {},
       "output_type": "display_data",
       "png": "[encoded data removed]",
       "text": [
        "<matplotlib.figure.Figure at 0xbd82ecc>"
       ]
      }
     ],
     "prompt_number": 41
    },
    {
     "cell_type": "markdown",
     "metadata": {},
     "source": [
      "You can specify several functions at once as a list:"
     ]
    },
    {
     "cell_type": "code",
     "collapsed": false,
     "input": [
      "AO_mm = AO.resample(\"A\", how=['mean', np.min, np.max])\n",
      "#AO_mm['1900':'2020'].plot(subplots=True)\n",
      "AO_mm['1900':'2020'].plot()"
     ],
     "language": "python",
     "metadata": {},
     "outputs": [
      {
       "metadata": {},
       "output_type": "pyout",
       "prompt_number": 42,
       "text": [
        "<matplotlib.axes.AxesSubplot at 0xbeecb4c>"
       ]
      },
      {
       "metadata": {},
       "output_type": "display_data",
       "png": "[encoded data removed]",
       "text": [
        "<matplotlib.figure.Figure at 0xbf0d0cc>"
       ]
      }
     ],
     "prompt_number": 42
    },
    {
     "cell_type": "markdown",
     "metadata": {},
     "source": [
      "That's it. I hope you at least get a rough impression of what pandas can do for you. Comments are very welcome (below). If you have intresting examples of pandas usage in Earth Science, we would be happy to put them on [EarthPy](http://earthpy.org)."
     ]
    },
    {
     "cell_type": "heading",
     "level": 2,
     "metadata": {},
     "source": [
      "Links"
     ]
    },
    {
     "cell_type": "markdown",
     "metadata": {},
     "source": [
      "[Time Series Data Analysis with pandas (Video)](http://www.youtube.com/watch?v=0unf-C-pBYE)"
     ]
    },
    {
     "cell_type": "markdown",
     "metadata": {},
     "source": [
      "[Data analysis in Python with pandas (Video)](http://www.youtube.com/watch?v=w26x-z-BdWQ)"
     ]
    },
    {
     "cell_type": "markdown",
     "metadata": {},
     "source": [
      "[Python for Data Analysis](http://shop.oreilly.com/product/0636920023784.do)"
     ]
    }
   ],
   "metadata": {}
  }
 ]
}